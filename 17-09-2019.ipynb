{
 "cells": [
  {
   "cell_type": "markdown",
   "metadata": {},
   "source": [
    "### control statements \n",
    "\n",
    "- conditional statement or selection statements\n",
    "   - if else\n",
    "- iteratinaal statements or loop statements\n",
    "  - while\n",
    "  - for"
   ]
  },
  {
   "cell_type": "code",
   "execution_count": 1,
   "metadata": {},
   "outputs": [
    {
     "name": "stdout",
     "output_type": "stream",
     "text": [
      "2020\n",
      "leap year\n"
     ]
    }
   ],
   "source": [
    "#check the input is leap year or not\n",
    "year =int (input(''))\n",
    "if year % 400==0 or (year % 100 !=0 and year %4==0):\n",
    "    print('leap year')\n",
    "else:\n",
    "    print('not leap year')"
   ]
  },
  {
   "cell_type": "code",
   "execution_count": 2,
   "metadata": {},
   "outputs": [
    {
     "name": "stdout",
     "output_type": "stream",
     "text": [
      "enter a number:10\n",
      "12345678910"
     ]
    }
   ],
   "source": [
    "n=int(input('enter a number:'))\n",
    "i = 1\n",
    "while i<=n:\n",
    "    print(i,end=\"\")\n",
    "    i=i+1"
   ]
  },
  {
   "cell_type": "code",
   "execution_count": 3,
   "metadata": {},
   "outputs": [
    {
     "name": "stdout",
     "output_type": "stream",
     "text": [
      "10\n",
      "0\n"
     ]
    }
   ],
   "source": [
    "# read a number as input\n",
    "# output as only even numbers sum 1 to n\n",
    "\n",
    "# input:10\n",
    "# output:30\n",
    "\n",
    "a = int(input(''))\n",
    "i = 1\n",
    "s = 0\n",
    "while i<=0:\n",
    "    if i%2== 0:\n",
    "        s = s+i\n",
    "    i =i+1\n",
    "print(s)"
   ]
  },
  {
   "cell_type": "code",
   "execution_count": 4,
   "metadata": {},
   "outputs": [
    {
     "name": "stdout",
     "output_type": "stream",
     "text": [
      "15\n",
      "56\n"
     ]
    }
   ],
   "source": [
    "n = int (input(''))\n",
    "i = 1\n",
    "s = 0\n",
    "while i<= n:\n",
    "    if i % 2==0:\n",
    "        s = s+i\n",
    "    i= i+1\n",
    "print(s)"
   ]
  },
  {
   "cell_type": "code",
   "execution_count": 5,
   "metadata": {},
   "outputs": [
    {
     "name": "stdout",
     "output_type": "stream",
     "text": [
      "15\n",
      "51"
     ]
    }
   ],
   "source": [
    "n =int(input(''))\n",
    "while n !=0:\n",
    "    print(n%10,end='')\n",
    "    n = n//10"
   ]
  },
  {
   "cell_type": "code",
   "execution_count": null,
   "metadata": {},
   "outputs": [],
   "source": [
    "#read a number\n",
    "#print the even digit sum from the number\n",
    "#input:1234\n",
    "#output:6(2+4)\n",
    "\n",
    "def evenDigitSum(n):\n",
    "    s = 0\n",
    "    while n!=0:\n",
    "        r = n%10\n",
    "        if r%2 ==0:\n",
    "            s= s+r\n",
    "            n=n//10\n",
    "    return s\n",
    "evenDigitSum(1458)"
   ]
  },
  {
   "cell_type": "code",
   "execution_count": null,
   "metadata": {},
   "outputs": [],
   "source": [
    "def largeDigit(n):\n",
    "  #implement the logic\n",
    "return large\n",
    "lergeDigit()"
   ]
  },
  {
   "cell_type": "code",
   "execution_count": null,
   "metadata": {},
   "outputs": [],
   "source": []
  },
  {
   "cell_type": "code",
   "execution_count": null,
   "metadata": {},
   "outputs": [],
   "source": []
  }
 ],
 "metadata": {
  "kernelspec": {
   "display_name": "Python 3",
   "language": "python",
   "name": "python3"
  },
  "language_info": {
   "codemirror_mode": {
    "name": "ipython",
    "version": 3
   },
   "file_extension": ".py",
   "mimetype": "text/x-python",
   "name": "python",
   "nbconvert_exporter": "python",
   "pygments_lexer": "ipython3",
   "version": "3.7.3"
  }
 },
 "nbformat": 4,
 "nbformat_minor": 2
}
