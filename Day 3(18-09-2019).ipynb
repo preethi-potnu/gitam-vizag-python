{
 "cells": [
  {
   "cell_type": "code",
   "execution_count": 3,
   "metadata": {},
   "outputs": [
    {
     "name": "stdout",
     "output_type": "stream",
     "text": [
      "p\n",
      "5\n",
      "n\n",
      "o\n",
      "o\n",
      "on\n",
      "hon\n",
      "tho\n",
      "ytho\n"
     ]
    }
   ],
   "source": [
    "s1='python'\n",
    "print(s1[0])\n",
    "print(len(s1)-1)\n",
    "print(s1[-1])\n",
    "print(s1[-2])\n",
    "print(s1[0-2])\n",
    "print(s1[-2:])\n",
    "print(s1[3:])\n",
    "print(s1[2:5])\n",
    "print(s1[1:-1])"
   ]
  },
  {
   "cell_type": "code",
   "execution_count": 6,
   "metadata": {},
   "outputs": [
    {
     "data": {
      "text/plain": [
       "'nohtyp'"
      ]
     },
     "execution_count": 6,
     "metadata": {},
     "output_type": "execute_result"
    }
   ],
   "source": [
    "s1[-1::-1]#Reverse the string"
   ]
  },
  {
   "cell_type": "code",
   "execution_count": 10,
   "metadata": {},
   "outputs": [
    {
     "data": {
      "text/plain": [
       "'nohthp'"
      ]
     },
     "execution_count": 10,
     "metadata": {},
     "output_type": "execute_result"
    }
   ],
   "source": [
    "# reverse the string\n",
    "def reverseStr(s):\n",
    "    return s[-1::-1]\n",
    "reverseStr('phthon')"
   ]
  },
  {
   "cell_type": "code",
   "execution_count": 22,
   "metadata": {},
   "outputs": [
    {
     "name": "stdout",
     "output_type": "stream",
     "text": [
      "False\n",
      "True\n"
     ]
    }
   ],
   "source": [
    "# to check given string is palindrom or not a palindrom\n",
    "def ispalindrom(s):\n",
    "    if s==s[-1::-1]:\n",
    "        return True\n",
    "    return False\n",
    "print(ispalindrom('python'))\n",
    "print(ispalindrom('sahas'))"
   ]
  },
  {
   "cell_type": "code",
   "execution_count": 28,
   "metadata": {},
   "outputs": [
    {
     "name": "stdout",
     "output_type": "stream",
     "text": [
      "PTN"
     ]
    }
   ],
   "source": [
    "# function to print upper case characters\n",
    "# ex:- python ---P T\n",
    "\n",
    "#ASCIT\n",
    "#A- 2 : 65-90\n",
    "#a- 2 : 97-122\n",
    "#0- 9 : 48-57\n",
    "#SPACE:32\n",
    "def printupper(s):\n",
    "    for i in range(len(s)):\n",
    "        if ord(s[i])>=65 and ord(s[i])<=90:\n",
    "            print(s[i],end='')\n",
    "    return\n",
    "printupper('PyThN')"
   ]
  },
  {
   "cell_type": "code",
   "execution_count": 30,
   "metadata": {},
   "outputs": [],
   "source": [
    "# function to return the output as \"sameCount\" or \"programming\"\n",
    "# sameCount -- lower and upper chars have same Count\n",
    "# programing -- Count of lower and upper case is not same\n",
    "\n",
    "# example #1 : phton --3 P T O\n",
    "#                    --3 y h n    \n",
    "#OUTPUT : SAME cOUNT\n",
    "\n",
    "#Example #2 : python --2 P N\n",
    "#                    --4 y t h o\n",
    "#output : programming"
   ]
  },
  {
   "cell_type": "code",
   "execution_count": 40,
   "metadata": {},
   "outputs": [
    {
     "data": {
      "text/plain": [
       "'sameCount'"
      ]
     },
     "execution_count": 40,
     "metadata": {},
     "output_type": "execute_result"
    }
   ],
   "source": [
    "def findcharCount(s):\n",
    "    cntupper =0\n",
    "    cntlower =0\n",
    "    for i in range(len(s)):\n",
    "        if ord(s[i]) >=65 and ord (s[i]) <=90:\n",
    "            cntupper += 1# cntupper = cntupper +1\n",
    "        elif ord(s[i]) >=97 and ord(s[i]) <= 122:\n",
    "            cntlower += 1# cntlower = cntlwer +1\n",
    "    if cntlower == cntupper:\n",
    "        return \"sameCount\"\n",
    "    return\"programming\"\n",
    "findcharCount('PyThoN')"
   ]
  },
  {
   "cell_type": "code",
   "execution_count": null,
   "metadata": {},
   "outputs": [],
   "source": [
    "#Function to Extract the digits from the string\n",
    "#Example #1:\n",
    "#input : Appli18cation89\n",
    "#output : 26 1 8 8 9"
   ]
  },
  {
   "cell_type": "code",
   "execution_count": 38,
   "metadata": {},
   "outputs": [
    {
     "name": "stdout",
     "output_type": "stream",
     "text": [
      "1 8 8 9 "
     ]
    }
   ],
   "source": [
    "def ExtractDigits(s):\n",
    "    for i in range(len(s)):\n",
    "        if ord(s[i]) >=48 and ord(s[i]) <=57:\n",
    "            print(s[i],end=' ')\n",
    "    return\n",
    "ExtractDigits('Appli18cation89')"
   ]
  },
  {
   "cell_type": "code",
   "execution_count": 48,
   "metadata": {},
   "outputs": [
    {
     "name": "stdout",
     "output_type": "stream",
     "text": [
      "1 8 8 9 "
     ]
    },
    {
     "data": {
      "text/plain": [
       "26"
      ]
     },
     "execution_count": 48,
     "metadata": {},
     "output_type": "execute_result"
    }
   ],
   "source": [
    "def sumofDigits(s):\n",
    "    sum = 0\n",
    "    for i in range(len(s)):\n",
    "        if ord(s[i]) >=48 and ord(s[i]) <=57:\n",
    "            sum= sum +(ord (s[i])-48)\n",
    "            print(s[i],end=' ')\n",
    "    return sum\n",
    "sumofDigits('Appli18cation89')"
   ]
  },
  {
   "cell_type": "code",
   "execution_count": 49,
   "metadata": {},
   "outputs": [],
   "source": [
    "# functions to 2nd word in upper case\n",
    "# example #1:\n",
    "# input : python made easy\n",
    "# output : MADE\n",
    "\n",
    "# Eaxample #2:\n",
    "# input learn python strings\n",
    "# output :PYTHON"
   ]
  },
  {
   "cell_type": "code",
   "execution_count": 60,
   "metadata": {},
   "outputs": [
    {
     "name": "stdout",
     "output_type": "stream",
     "text": [
      "M A D E "
     ]
    }
   ],
   "source": [
    "def worduppercase(s):\n",
    "    cntspace =0\n",
    "    for i in range(len(s)):\n",
    "        if ord(s[i])== 32:\n",
    "            cntspace +=1\n",
    "        if cntspace ==1:\n",
    "                if ord(s[i])>= 65 and ord(s[i])<=90:\n",
    "                    print(s[i],end=' ')\n",
    "                elif ord(s[i])>= 97 and ord(s[i])<=122:\n",
    "                    print(chr(ord(s[i])-32),end=' ')\n",
    "        if cntspace ==2:\n",
    "             break\n",
    "    return\n",
    "worduppercase('python made easy')#MADE"
   ]
  },
  {
   "cell_type": "markdown",
   "metadata": {},
   "source": [
    "### list\n",
    "- one of the data structure in python\n",
    "- data structure means to score,sort and search options\n",
    "- it's one common data structure in the python the items of list separated by comma and enclosed in square bracket\n",
    "- example\n",
    "  - list1=[1,8,16,9,2]\n",
    "  - list2=[\"gitam\".1,2,1.89,\"vizag\"]"
   ]
  },
  {
   "cell_type": "code",
   "execution_count": 61,
   "metadata": {},
   "outputs": [
    {
     "name": "stdout",
     "output_type": "stream",
     "text": [
      "[1, 8, 16, 9, 2]\n",
      "1\n",
      "[1, 8, 16]\n"
     ]
    }
   ],
   "source": [
    "li=[1,8,16,9,2]\n",
    "print(li)\n",
    "print(li[0])\n",
    "print(li[:3])\n"
   ]
  },
  {
   "cell_type": "code",
   "execution_count": 64,
   "metadata": {},
   "outputs": [
    {
     "name": "stdout",
     "output_type": "stream",
     "text": [
      "['gitam', 1582, 2018, 2019, 'vizag']\n",
      "['gitam', 1234, 2018, 2019, 'vizag']\n"
     ]
    }
   ],
   "source": [
    "li =[\"gitam\",1582,2018,2019,'vizag']\n",
    "print(li)\n",
    "li[1]=1234 # update the list at index 1\n",
    "print(li)"
   ]
  },
  {
   "cell_type": "code",
   "execution_count": 66,
   "metadata": {},
   "outputs": [
    {
     "name": "stdout",
     "output_type": "stream",
     "text": [
      "['gitam', 1234, 2018, 'vizag']\n"
     ]
    }
   ],
   "source": [
    "#delete the list items from the list\n",
    "del li[3]\n",
    "print(li)"
   ]
  },
  {
   "cell_type": "code",
   "execution_count": 71,
   "metadata": {},
   "outputs": [
    {
     "name": "stdout",
     "output_type": "stream",
     "text": [
      "5\n",
      "[1, 2, 3, 4, 5, 1, 2, 3, 4, 5, 1, 2, 3, 4, 5, 1, 2, 3, 4, 5, 1, 2, 3, 4, 5]\n",
      "True\n",
      "1,2,3,4,5,"
     ]
    }
   ],
   "source": [
    "li=[1,2,3,4,5]\n",
    "print(len(li))\n",
    "print(li*5)\n",
    "print(4 in li)\n",
    "# access the list items from the iterations\n",
    "#i way to define\n",
    "for i in range(len(li)):\n",
    "    print(li[i],end=',')\n"
   ]
  },
  {
   "cell_type": "code",
   "execution_count": 72,
   "metadata": {},
   "outputs": [
    {
     "name": "stdout",
     "output_type": "stream",
     "text": [
      "25\n",
      "1\n",
      "56\n",
      "11\n"
     ]
    }
   ],
   "source": [
    "# basic list functions\n",
    "li=[1,9,16,25,5]\n",
    "print(max(li))\n",
    "print(min(li))\n",
    "print(sum(li))\n",
    "print(sum(li)//len(li))"
   ]
  },
  {
   "cell_type": "code",
   "execution_count": 5,
   "metadata": {},
   "outputs": [
    {
     "data": {
      "text/plain": [
       "2"
      ]
     },
     "execution_count": 5,
     "metadata": {},
     "output_type": "execute_result"
    }
   ],
   "source": [
    "# method of list\n",
    "li=[9,15,16,25,5]\n",
    "li.append(29)\n",
    "li.insert(2,56)\n",
    "li.append(9)\n",
    "li.count(9)\n",
    "li.index(56)\n"
   ]
  },
  {
   "cell_type": "code",
   "execution_count": 9,
   "metadata": {},
   "outputs": [
    {
     "name": "stdout",
     "output_type": "stream",
     "text": [
      "[5, 9, 9, 15, 16, 25, 29, 56]\n",
      "[5, 9, 9, 15, 16, 25, 29]\n"
     ]
    },
    {
     "data": {
      "text/plain": [
       "9"
      ]
     },
     "execution_count": 9,
     "metadata": {},
     "output_type": "execute_result"
    }
   ],
   "source": [
    "#  method of list objetives\n",
    "li.sort()\n",
    "print(li)\n",
    "li.pop() # it removes last number\n",
    "print(li)\n",
    "li.pop(2)\n"
   ]
  },
  {
   "cell_type": "code",
   "execution_count": 10,
   "metadata": {},
   "outputs": [
    {
     "name": "stdout",
     "output_type": "stream",
     "text": [
      "45\n",
      "22\n"
     ]
    }
   ],
   "source": [
    "# function to return the large number from the list \n",
    "def largenumber(li):\n",
    "    li.sort()\n",
    "    return li[-1]\n",
    "def genericlarge(li,n):\n",
    "    li.sort()\n",
    "    return li[-n]\n",
    "li =[19,1,25,6,45,22]\n",
    "print(largenumber(li))\n",
    "print(genericlarge(li,3))"
   ]
  },
  {
   "cell_type": "code",
   "execution_count": 19,
   "metadata": {},
   "outputs": [
    {
     "name": "stdout",
     "output_type": "stream",
     "text": [
      "1\n",
      "22\n"
     ]
    }
   ],
   "source": [
    "# function to find least and generic least number\n",
    "def leastnumber(li):\n",
    "    li.sort()\n",
    "    return li[0]\n",
    "def genericleastnumber(li,n):\n",
    "    li.sort()\n",
    "    return li[n-1]\n",
    "li =[19,1,25,6,45,22]\n",
    "print(leastnumber(li))\n",
    "print(genericleastnumber(li,4))"
   ]
  },
  {
   "cell_type": "code",
   "execution_count": 25,
   "metadata": {},
   "outputs": [
    {
     "name": "stdout",
     "output_type": "stream",
     "text": [
      "file is successfully created and data has inserted\n"
     ]
    }
   ],
   "source": [
    "# function to create file and write some datato the file\n",
    "# mode -- w(it creates the file and write to the same data )\n",
    "#         if the file already exists with same name the it will rewrite the data\n",
    "def createfile(filename):\n",
    "    f = open(filename,'w')\n",
    "    for i in range(10):\n",
    "            f.write('this is %d line \\n'%i)\n",
    "    print('file is successfully created and data has inserted')\n",
    "    return\n",
    "createfile('data.txt')\n",
    "        "
   ]
  },
  {
   "cell_type": "code",
   "execution_count": 29,
   "metadata": {},
   "outputs": [
    {
     "name": "stdout",
     "output_type": "stream",
     "text": [
      "program completed successfully\n"
     ]
    }
   ],
   "source": [
    "# mode -- (if the file is not availableit create the file)\n",
    "#      -- if the file is already present with the same name\n",
    "#      -- append the data is already previous line\n",
    "def appendmode(filename):\n",
    "    f = open(filename,'a')\n",
    "    f.write('gitam vizag\\n')\n",
    "    f.write('python programming\\n')\n",
    "    print('program completed successfully') \n",
    "    return\n",
    "appendmode('data.txt')"
   ]
  },
  {
   "cell_type": "code",
   "execution_count": 38,
   "metadata": {},
   "outputs": [
    {
     "name": "stdout",
     "output_type": "stream",
     "text": [
      "this is 0 line \n",
      "this is 1 line \n",
      "this is 2 line \n",
      "this is 3 line \n",
      "this is 4 line \n",
      "this is 5 line \n",
      "this is 6 line \n",
      "this is 7 line \n",
      "this is 8 line \n",
      "this is 9 line \n",
      "gitam vizag/nprogram completed successfullygitam vizag/nprogram completed successfullygitam vizag/nprogram completed successfullygitam vizag\n",
      "python programming\n",
      "\n"
     ]
    }
   ],
   "source": [
    "# function to rad the file \n",
    "def readFiledata(filename):\n",
    "    f = open(filename,'r')\n",
    "    if f.mode =='r':\n",
    "        a =f.read()\n",
    "        print(a)\n",
    "    f.close()\n",
    "    return\n",
    "readFiledata('data.txt')"
   ]
  },
  {
   "cell_type": "code",
   "execution_count": 35,
   "metadata": {},
   "outputs": [
    {
     "data": {
      "text/plain": [
       "'C:\\\\Users\\\\cse319\\\\Desktop\\\\pythonprogramming'"
      ]
     },
     "execution_count": 35,
     "metadata": {},
     "output_type": "execute_result"
    }
   ],
   "source": [
    "pwd"
   ]
  },
  {
   "cell_type": "code",
   "execution_count": 39,
   "metadata": {},
   "outputs": [
    {
     "data": {
      "text/plain": [
       "53"
      ]
     },
     "execution_count": 39,
     "metadata": {},
     "output_type": "execute_result"
    }
   ],
   "source": [
    "# word count  -- Inputfile\n",
    "def wordCount(filename):\n",
    "    with open(filename,'r') as f:\n",
    "        if f.mode =='r':\n",
    "            a =f.read()\n",
    "            li = a.split()\n",
    "    return len(li)\n",
    "wordCount('data.txt')"
   ]
  },
  {
   "cell_type": "code",
   "execution_count": 43,
   "metadata": {},
   "outputs": [
    {
     "data": {
      "text/plain": [
       "10"
      ]
     },
     "execution_count": 43,
     "metadata": {},
     "output_type": "execute_result"
    }
   ],
   "source": [
    "# specific word Count\n",
    "def specificwordCnt(filename,word):\n",
    "    with open(filename,'r') as f:\n",
    "        if f.mode =='r':\n",
    "            a=f.read()\n",
    "            li =a.split()\n",
    "    return li.count(word)\n",
    "specificwordCnt('data.txt','this')"
   ]
  },
  {
   "cell_type": "code",
   "execution_count": 44,
   "metadata": {},
   "outputs": [
    {
     "data": {
      "text/plain": [
       "320"
      ]
     },
     "execution_count": 44,
     "metadata": {},
     "output_type": "execute_result"
    }
   ],
   "source": [
    "# function to find the character count from the input file\n",
    "def charcount(filename):\n",
    "    with open(filename,'r')as f:\n",
    "        if f.mode =='r':\n",
    "            a = f.read()\n",
    "            li = list(a)\n",
    "    return len(li)\n",
    "charcount('data.txt')"
   ]
  },
  {
   "cell_type": "code",
   "execution_count": 48,
   "metadata": {},
   "outputs": [
    {
     "data": {
      "text/plain": [
       "13"
      ]
     },
     "execution_count": 48,
     "metadata": {},
     "output_type": "execute_result"
    }
   ],
   "source": [
    "# find no of lines or rows in the given input\n",
    "def findLineCount(filename):\n",
    "    with open(filename,'r') as f:\n",
    "        if f.mode =='r':\n",
    "        \n",
    "            a = f.read()\n",
    "            li =a.split('\\n')\n",
    "    return len(li)\n",
    "findLineCount('data.txt')"
   ]
  },
  {
   "cell_type": "code",
   "execution_count": null,
   "metadata": {},
   "outputs": [],
   "source": [
    "def caseCount(filename):\n",
    "    cntUpper = 0\n",
    "    cntLower = 0\n",
    "    cntDigit = 0\n",
    "    with open(filename,'r') as f:\n",
    "        if f.mode == 'r':\n",
    "            li=list(a)\n",
    "    for i in range(len(li)):\n",
    "        if ord(li[i]) >=65 and ord(li[i] <= 90:\n",
    "            cnt\n",
    "            "
   ]
  },
  {
   "cell_type": "code",
   "execution_count": null,
   "metadata": {},
   "outputs": [],
   "source": []
  },
  {
   "cell_type": "code",
   "execution_count": null,
   "metadata": {},
   "outputs": [],
   "source": []
  },
  {
   "cell_type": "code",
   "execution_count": null,
   "metadata": {},
   "outputs": [],
   "source": []
  },
  {
   "cell_type": "code",
   "execution_count": null,
   "metadata": {},
   "outputs": [],
   "source": []
  },
  {
   "cell_type": "code",
   "execution_count": null,
   "metadata": {},
   "outputs": [],
   "source": []
  },
  {
   "cell_type": "code",
   "execution_count": null,
   "metadata": {},
   "outputs": [],
   "source": []
  }
 ],
 "metadata": {
  "kernelspec": {
   "display_name": "Python 3",
   "language": "python",
   "name": "python3"
  },
  "language_info": {
   "codemirror_mode": {
    "name": "ipython",
    "version": 3
   },
   "file_extension": ".py",
   "mimetype": "text/x-python",
   "name": "python",
   "nbconvert_exporter": "python",
   "pygments_lexer": "ipython3",
   "version": "3.7.3"
  }
 },
 "nbformat": 4,
 "nbformat_minor": 2
}
