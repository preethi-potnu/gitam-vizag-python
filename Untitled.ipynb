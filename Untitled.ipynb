{
 "cells": [
  {
   "cell_type": "code",
   "execution_count": null,
   "metadata": {},
   "outputs": [],
   "source": [
    "def largeDigit(n):\n",
    "        large = 0\n",
    "        while n !=0:\n",
    "            r = n % 10\n",
    "            if large < r:\n",
    "                large = r\n",
    "        n = n // 10\n",
    "        return large\n",
    "largeDigit(19585)"
   ]
  },
  {
   "cell_type": "code",
   "execution_count": null,
   "metadata": {},
   "outputs": [],
   "source": [
    "def ispalindrome(n):\n",
    "    rev =0\n",
    "    buffer = n\n",
    "    while n !=0:\n",
    "        rev =rev * 10 + (n%10)\n",
    "        n = n // 10\n",
    "        if buffer == rev :\n",
    "            return\"palindrome\"\n",
    "        return \"not palindrome\"\n",
    "    print(ispalindrome(121)) #palindrome\n",
    "    print(osplaindrome(123)) # not a palindrome"
   ]
  },
  {
   "cell_type": "code",
   "execution_count": null,
   "metadata": {},
   "outputs": [],
   "source": []
  },
  {
   "cell_type": "code",
   "execution_count": null,
   "metadata": {},
   "outputs": [],
   "source": []
  }
 ],
 "metadata": {
  "kernelspec": {
   "display_name": "Python 3",
   "language": "python",
   "name": "python3"
  },
  "language_info": {
   "codemirror_mode": {
    "name": "ipython",
    "version": 3
   },
   "file_extension": ".py",
   "mimetype": "text/x-python",
   "name": "python",
   "nbconvert_exporter": "python",
   "pygments_lexer": "ipython3",
   "version": "3.7.3"
  }
 },
 "nbformat": 4,
 "nbformat_minor": 2
}
